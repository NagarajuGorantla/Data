{
  "nbformat": 4,
  "nbformat_minor": 0,
  "metadata": {
    "colab": {
      "provenance": [],
      "toc_visible": true
    },
    "kernelspec": {
      "name": "python3",
      "display_name": "Python 3"
    },
    "language_info": {
      "name": "python"
    }
  },
  "cells": [
    {
      "cell_type": "markdown",
      "source": [
        "# a. Build 99% Confidence Interval Using Sample Standard Deviation\n",
        "\n"
      ],
      "metadata": {
        "id": "3L8uvxB-kh9m"
      }
    },
    {
      "cell_type": "code",
      "source": [
        "import numpy as np\n",
        "from scipy import stats\n",
        "\n",
        "# Data\n",
        "data = [1.13, 1.55, 1.43, 0.92, 1.25, 1.36, 1.32, 0.85, 1.07, 1.48, 1.20, 1.33, 1.18, 1.22, 1.29]\n",
        "\n",
        "# Sample Size\n",
        "n = len(data)\n",
        "\n",
        "# Sample Mean\n",
        "mean = np.mean(data)\n",
        "\n",
        "# Sample Standard Deviation\n",
        "s = np.std(data,ddof=1)\n",
        "\n",
        "# t-score for 99% confidence Interval\n",
        "t_score = stats.t.ppf(0.99,df=n-1)\n",
        "\n",
        "# Standard Error\n",
        "SE_sample = s / np.sqrt(n)\n",
        "\n",
        "# Margin Error\n",
        "ME_sample = t_score * SE_sample\n",
        "# Confidence Interval\n",
        "confidence_interval_sample = (mean - ME_sample, mean + ME_sample)\n",
        "\n",
        "print(\"Mean:\",mean)\n",
        "print(\"Confidence Interval:\",confidence_interval_sample)"
      ],
      "metadata": {
        "colab": {
          "base_uri": "https://localhost:8080/"
        },
        "id": "huCSqMNWlbl9",
        "outputId": "d513091a-e919-4d1b-e50b-d2605f59866c"
      },
      "execution_count": 3,
      "outputs": [
        {
          "output_type": "stream",
          "name": "stdout",
          "text": [
            "Mean: 1.2386666666666666\n",
            "Confidence Interval: (1.1077706449687466, 1.3695626883645866)\n"
          ]
        }
      ]
    },
    {
      "cell_type": "code",
      "source": [],
      "metadata": {
        "id": "PrlZxmz4mYaG"
      },
      "execution_count": null,
      "outputs": []
    },
    {
      "cell_type": "markdown",
      "source": [
        "# b. Build 99% Confidence Interval Using Known Population Standard Deviation"
      ],
      "metadata": {
        "id": "mePWmALzmlH5"
      }
    },
    {
      "cell_type": "code",
      "source": [
        "import numpy as np\n",
        "from scipy import stats\n",
        "\n",
        "# Data\n",
        "data = [1.13, 1.55, 1.43, 0.92, 1.25, 1.36, 1.32, 0.85, 1.07, 1.48, 1.20, 1.33, 1.18, 1.22, 1.29]\n",
        "# Known population standard deviation\n",
        "sigma = 0.2\n",
        "\n",
        "# Polpulation Size\n",
        "n = len(data)\n",
        "\n",
        "# Population Mean\n",
        "mean = np.mean(data)\n",
        "\n",
        "# z-score\n",
        "confidence_level = 0.99\n",
        "z_score = round(stats.norm.ppf((1 + confidence_level) / 2),3)\n",
        "\n",
        "# Standard Error using Population standard deviation\n",
        "SE_population = sigma/np.sqrt(n)\n",
        "\n",
        "# Margin Error\n",
        "ME_population = z_score * SE_population\n",
        "\n",
        "# Confidence Interval\n",
        "confidence_interval_population = (mean - ME_population, mean + ME_population)\n",
        "\n",
        "print(\"Mean:\",mean)\n",
        "print(\"Confidence Interval:\",confidence_interval_population)"
      ],
      "metadata": {
        "colab": {
          "base_uri": "https://localhost:8080/"
        },
        "id": "Gk3PNT6Zmnbn",
        "outputId": "788fd2f5-3d8f-4aee-b1ae-80b6fdbeb755"
      },
      "execution_count": 4,
      "outputs": [
        {
          "output_type": "stream",
          "name": "stdout",
          "text": [
            "Mean: 1.2386666666666666\n",
            "Confidence Interval: (1.105642598668929, 1.371690734664404)\n"
          ]
        }
      ]
    },
    {
      "cell_type": "code",
      "source": [],
      "metadata": {
        "id": "Hj7M1wsxmrEf"
      },
      "execution_count": null,
      "outputs": []
    }
  ]
}