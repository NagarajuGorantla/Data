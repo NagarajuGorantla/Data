{
  "nbformat": 4,
  "nbformat_minor": 0,
  "metadata": {
    "colab": {
      "provenance": []
    },
    "kernelspec": {
      "name": "python3",
      "display_name": "Python 3"
    },
    "language_info": {
      "name": "python"
    }
  },
  "cells": [
    {
      "cell_type": "markdown",
      "source": [
        "#Exercise 1: Prime Numbers"
      ],
      "metadata": {
        "id": "dctov2NkoZ8B"
      }
    },
    {
      "cell_type": "code",
      "source": [
        "#Request user input for a numeber\n",
        "num = int(input(\"Enter a number: \"))\n",
        "\n",
        "#Check if the number is greater then 1\n",
        "if num > 1:\n",
        "  # Iterate through numbers from 2 to num-1\n",
        "  for i in range(2,num):\n",
        "    #check if num is divible by i\n",
        "    if (num % i) == 0:\n",
        "      #if number is divisble ,it's not a prime number\n",
        "      print(f\"{num}is not a prime number\")\n",
        "      break\n",
        "    else:\n",
        "        # if no divisor found , num is a prime number\n",
        "        print(f\"{num} is a prime number\")\n",
        "else:\n",
        "    #if num is less then or equal to 1, print a message\n",
        "    print(\"Please enter a number greater then 1\")\n",
        "\n",
        "\n"
      ],
      "metadata": {
        "colab": {
          "base_uri": "https://localhost:8080/"
        },
        "id": "8c_HRwusosOU",
        "outputId": "d3a0eefb-809f-4e09-80b8-2bc13ee2d693"
      },
      "execution_count": 3,
      "outputs": [
        {
          "output_type": "stream",
          "name": "stdout",
          "text": [
            "Enter a number: 17\n",
            "17 is a prime number\n",
            "17 is a prime number\n",
            "17 is a prime number\n",
            "17 is a prime number\n",
            "17 is a prime number\n",
            "17 is a prime number\n",
            "17 is a prime number\n",
            "17 is a prime number\n",
            "17 is a prime number\n",
            "17 is a prime number\n",
            "17 is a prime number\n",
            "17 is a prime number\n",
            "17 is a prime number\n",
            "17 is a prime number\n",
            "17 is a prime number\n"
          ]
        }
      ]
    },
    {
      "cell_type": "markdown",
      "source": [
        "#Exercise 2: Product of Random Numbers"
      ],
      "metadata": {
        "id": "gNcpthKEsG9-"
      }
    },
    {
      "cell_type": "code",
      "source": [
        "import random\n",
        "#Generate two random numbers\n",
        "num1 = random.randint(1,100)\n",
        "num2 = random.randint(1,100)\n",
        "\n",
        "#Calculate the product\n",
        "correct_product = num1 * num2\n",
        "\n",
        "#ask the user for the product\n",
        "user_answer = int(input(f\"What is the product of {num1} and {num2}\"))\n",
        "\n",
        "#Check if the user's answer is correct\n",
        "if user_answer == correct_product:\n",
        "  print(\"Correct!\")\n",
        "else:\n",
        "  print(f\"Incorrect. The correct answer is {correct_product}\")\n",
        ""
      ],
      "metadata": {
        "colab": {
          "base_uri": "https://localhost:8080/"
        },
        "id": "4x9PUNlAqUpD",
        "outputId": "a6d078f3-5b00-4770-ad78-db70e859d743"
      },
      "execution_count": 4,
      "outputs": [
        {
          "output_type": "stream",
          "name": "stdout",
          "text": [
            "What is the product of 54 and 57560\n",
            "Incorrect. The correct answer is 3078\n"
          ]
        }
      ]
    },
    {
      "cell_type": "markdown",
      "source": [
        "#Exercise 3: Squares of Even/odd Numbers\n",
        "\n"
      ],
      "metadata": {
        "id": "L-jY6OnDukx-"
      }
    },
    {
      "cell_type": "code",
      "source": [
        "# Ask the user to choose 'even' or 'odd', strip any leading or trailing whitespace, and convert to lowercase\n",
        "choice = input(\"Do you want to see the squares of 'even' or 'odd' numbers? \").strip().lower()\n",
        "\n",
        "# Check the user's choice and proceed accordingly\n",
        "if choice == 'even':\n",
        "    # Print a message indicating the operation to be performed\n",
        "    print(\"Squares of even numbers from 100 to 200\")\n",
        "    # Iterate through the range from 100 to 200\n",
        "    for i in range(100, 201):\n",
        "        # Check if the number is even\n",
        "        if i % 2 == 0:\n",
        "            # Print the number and its square\n",
        "            print(f\"{i} ^ 2 :\", i ** 2)\n",
        "elif choice == 'odd':\n",
        "    # Print a message indicating the operation to be performed\n",
        "    print(\"Squares of odd numbers from 100 to 200\")\n",
        "    # Iterate through the range from 100 to 200\n",
        "    for i in range(100, 201):\n",
        "        # Check if the number is odd\n",
        "        if i % 2 != 0:\n",
        "           # Print the number and its square\n",
        "            print(f\"{i} ^ 2 :\", i ** 2)\n",
        "else:\n",
        "    # Inform the user about an invalid choice\n",
        "    print(\"Invalid choice. Please choose 'even' or 'odd'\")"
      ],
      "metadata": {
        "colab": {
          "base_uri": "https://localhost:8080/"
        },
        "id": "jrKCp1I8u8vp",
        "outputId": "8fdaf0cc-21b2-4fd3-eea1-981b29f7caa4"
      },
      "execution_count": 6,
      "outputs": [
        {
          "output_type": "stream",
          "name": "stdout",
          "text": [
            "Do you want to see the squares of 'even' or 'odd' numbers? even\n",
            "Squares of even numbers from 100 to 200\n",
            "100 ^ 2 : 10000\n",
            "102 ^ 2 : 10404\n",
            "104 ^ 2 : 10816\n",
            "106 ^ 2 : 11236\n",
            "108 ^ 2 : 11664\n",
            "110 ^ 2 : 12100\n",
            "112 ^ 2 : 12544\n",
            "114 ^ 2 : 12996\n",
            "116 ^ 2 : 13456\n",
            "118 ^ 2 : 13924\n",
            "120 ^ 2 : 14400\n",
            "122 ^ 2 : 14884\n",
            "124 ^ 2 : 15376\n",
            "126 ^ 2 : 15876\n",
            "128 ^ 2 : 16384\n",
            "130 ^ 2 : 16900\n",
            "132 ^ 2 : 17424\n",
            "134 ^ 2 : 17956\n",
            "136 ^ 2 : 18496\n",
            "138 ^ 2 : 19044\n",
            "140 ^ 2 : 19600\n",
            "142 ^ 2 : 20164\n",
            "144 ^ 2 : 20736\n",
            "146 ^ 2 : 21316\n",
            "148 ^ 2 : 21904\n",
            "150 ^ 2 : 22500\n",
            "152 ^ 2 : 23104\n",
            "154 ^ 2 : 23716\n",
            "156 ^ 2 : 24336\n",
            "158 ^ 2 : 24964\n",
            "160 ^ 2 : 25600\n",
            "162 ^ 2 : 26244\n",
            "164 ^ 2 : 26896\n",
            "166 ^ 2 : 27556\n",
            "168 ^ 2 : 28224\n",
            "170 ^ 2 : 28900\n",
            "172 ^ 2 : 29584\n",
            "174 ^ 2 : 30276\n",
            "176 ^ 2 : 30976\n",
            "178 ^ 2 : 31684\n",
            "180 ^ 2 : 32400\n",
            "182 ^ 2 : 33124\n",
            "184 ^ 2 : 33856\n",
            "186 ^ 2 : 34596\n",
            "188 ^ 2 : 35344\n",
            "190 ^ 2 : 36100\n",
            "192 ^ 2 : 36864\n",
            "194 ^ 2 : 37636\n",
            "196 ^ 2 : 38416\n",
            "198 ^ 2 : 39204\n",
            "200 ^ 2 : 40000\n"
          ]
        }
      ]
    },
    {
      "cell_type": "markdown",
      "source": [
        "#Exercise 4: Word counter"
      ],
      "metadata": {
        "id": "d5jHyxLGvThE"
      }
    },
    {
      "cell_type": "code",
      "source": [
        "# Input text to be processed\n",
        "input_text = \"This is a sample text. This text will be used to demonstrate the word counter.\"\n",
        "\n",
        "# Dictionary to store word counts\n",
        "word_count = {}\n",
        "\n",
        "# Iterate through each word in the input text\n",
        "for word in input_text.split():\n",
        "    # Remove common punctuation marks and convert to lowercase\n",
        "    word = word.strip('.,!?;:\"()').lower()\n",
        "\n",
        "    # Check if the word is already in the dictionary\n",
        "    if word in word_count:\n",
        "        # Increment the count if the word exists in the dictionary\n",
        "        word_count[word] += 1\n",
        "    else:\n",
        "        # Initialize the count to 1 if the word is not in the dictionary\n",
        "        word_count[word] = 1\n",
        "\n",
        "# Print the word counts\n",
        "for word, count in word_count.items():\n",
        "    print(f\"'{word}': {count}\")"
      ],
      "metadata": {
        "colab": {
          "base_uri": "https://localhost:8080/"
        },
        "id": "alrmgMG6vZhl",
        "outputId": "d9defcfe-59b5-4681-e283-1db8afe70c56"
      },
      "execution_count": 7,
      "outputs": [
        {
          "output_type": "stream",
          "name": "stdout",
          "text": [
            "'this': 2\n",
            "'is': 1\n",
            "'a': 1\n",
            "'sample': 1\n",
            "'text': 2\n",
            "'will': 1\n",
            "'be': 1\n",
            "'used': 1\n",
            "'to': 1\n",
            "'demonstrate': 1\n",
            "'the': 1\n",
            "'word': 1\n",
            "'counter': 1\n"
          ]
        }
      ]
    },
    {
      "cell_type": "markdown",
      "source": [
        "#Exercise 5: Check for Palindrome"
      ],
      "metadata": {
        "id": "WLccx-sLvnEt"
      }
    },
    {
      "cell_type": "code",
      "source": [
        "def is_palindrome(input_string):\n",
        "    # Remove any non-alphanumeric characters and convert to lowercase\n",
        "    input_string = ''.join(char.lower() for char in input_string if char.isalnum())\n",
        "\n",
        "    #Check if the cleaned string is equal to its reverse\n",
        "    return input_string == input_string[::-1]\n",
        "is_palindrome(\"racecar\")"
      ],
      "metadata": {
        "id": "MsfgdrHKvkI7"
      },
      "execution_count": 9,
      "outputs": []
    },
    {
      "cell_type": "code",
      "source": [],
      "metadata": {
        "id": "oTG9KYwMwCqe"
      },
      "execution_count": null,
      "outputs": []
    }
  ]
}