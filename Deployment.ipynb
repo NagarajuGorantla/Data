{
 "cells": [
  {
   "cell_type": "code",
   "execution_count": 1,
   "id": "d0ae1153-76f0-4c6a-8d7a-f6cb82e10bc6",
   "metadata": {},
   "outputs": [
    {
     "name": "stdout",
     "output_type": "stream",
     "text": [
      "Overwriting logisticdep.py\n"
     ]
    }
   ],
   "source": [
    "%%writefile logisticdep.py\n",
    "\n",
    "import pandas as pd\n",
    "import streamlit as st\n",
    "from sklearn.linear_model import LogisticRegression\n",
    "\n",
    "st.title('Titanic Survival Prediction')\n",
    "\n",
    "st.sidebar.header('Enter Passenger Details:')\n",
    "\n",
    "def user_input_features():\n",
    "    Pclass = st.selectbox('Passenger Class (Pclass)', [1, 2, 3])\n",
    "    Age = st.slider('Age', 0, 100, 25)\n",
    "    Fare = st.slider('Fare', 0, 500, 100)\n",
    "    Sex = st.selectbox('Gender', ['Male', 'Female'])\n",
    "    Sex = 1 if Sex == 'Male' else 0  # Encode Gender: 1 for Male, 0 for Female\n",
    "    SibSp = st.slider('Number of Siblings/Spouses Aboard (SibSp)', 0, 10, 0)\n",
    "    Parch = st.slider('Number of Parents/Children Aboard (Parch)', 0, 10, 0)\n",
    "    Embarked = st.selectbox('Port of Embarkation', ['C = Cherbourg', 'Q = Queenstown', 'S = Southampton'])\n",
    "    Embarked = {'C = Cherbourg': 0, 'Q = Queenstown': 1, 'S = Southampton': 2}[Embarked]  # Encode Embarkation\n",
    "    data = {'Pclass':Pclass,\n",
    "           'Age':Age,\n",
    "           'Fare':Fare,\n",
    "           'Sex':Sex,\n",
    "           'SibSp':SibSp,\n",
    "           'Parch':Parch,\n",
    "           'Embarked':Embarked}\n",
    "    features = pd.DataFrame(data,index = [0])\n",
    "    return features\n",
    "\n",
    "df = user_input_features()\n",
    "st.subheader('Passenger Details')\n",
    "st.write(df)\n",
    "\n",
    "titanic = pd.read_csv(\"Titanic_train.csv\")\n",
    "def impute_age(cols):\n",
    "    Age = cols[0]\n",
    "    Pclass = cols[1]\n",
    "    if pd.isnull(Age):\n",
    "        if Pclass == 1:\n",
    "            return 38\n",
    "        elif Pclass == 2:\n",
    "            return 29\n",
    "        else:\n",
    "            return 25\n",
    "    else:\n",
    "        return Age\n",
    "titanic['Age'] = titanic[['Age','Pclass']].apply(impute_age,axis=1)\n",
    "titanic.drop('Cabin',axis=1,inplace=True)\n",
    "titanic.dropna(inplace=True)\n",
    "titanic = pd.get_dummies(titanic,columns=['Embarked','Sex'],dtype='int64',drop_first=True)\n",
    "titanic.drop(['PassengerID','Name','Ticket'],axis=1,inplace=True)\n",
    "\n",
    "X = titanic.drop('Survived',axis=1)\n",
    "y = titanic['Survived']\n",
    "clf = LogisticRegression()\n",
    "clf.fit(X,y)\n",
    "\n",
    "prediction = clf.predict(df)\n",
    "prediction_proba = clf.predict_proba(df)\n",
    "\n",
    "st.subheader('Predicted Result')\n",
    "st.write('Survived' if prediction == 1 else 'Not Survive')"
   ]
  },
  {
   "cell_type": "code",
   "execution_count": 2,
   "id": "29f0928b-1192-49bc-be75-f3c04d0d5365",
   "metadata": {},
   "outputs": [
    {
     "name": "stdout",
     "output_type": "stream",
     "text": [
      "\n",
      "up to date, audited 23 packages in 2s\n",
      "\n",
      "3 packages are looking for funding\n",
      "  run `npm fund` for details\n",
      "\n",
      "2 moderate severity vulnerabilities\n",
      "\n",
      "To address all issues (including breaking changes), run:\n",
      "  npm audit fix --force\n",
      "\n",
      "Run `npm audit` for details.\n"
     ]
    }
   ],
   "source": [
    "!npm install localtunnel"
   ]
  },
  {
   "cell_type": "code",
   "execution_count": 3,
   "id": "ed3da8d6-a229-4ace-a265-465764e1c809",
   "metadata": {},
   "outputs": [
    {
     "name": "stdout",
     "output_type": "stream",
     "text": [
      "^C\n"
     ]
    }
   ],
   "source": [
    "!streamlit run logisticdep.py"
   ]
  },
  {
   "cell_type": "code",
   "execution_count": 5,
   "id": "3c0b5e9c-13f6-451e-9dc4-25aaae7fb204",
   "metadata": {},
   "outputs": [
    {
     "name": "stdout",
     "output_type": "stream",
     "text": [
      "Password/Enpoint IP for localtunnel is: 223.185.132.249\n"
     ]
    }
   ],
   "source": [
    "import urllib\n",
    "print(\"Password/Enpoint IP for localtunnel is:\",urllib.request.urlopen('https://ipv4.icanhazip.com').read().decode('utf8').strip(\"\\n\"))"
   ]
  },
  {
   "cell_type": "code",
   "execution_count": 6,
   "id": "191df8d2-2f5d-447b-98e8-f0d374c1cad0",
   "metadata": {},
   "outputs": [
    {
     "name": "stdout",
     "output_type": "stream",
     "text": [
      "^C\n"
     ]
    }
   ],
   "source": [
    "!npx localtunnel --port 8501"
   ]
  },
  {
   "cell_type": "code",
   "execution_count": null,
   "id": "af2769d1-7f8c-4462-bb93-a0ab92b27c47",
   "metadata": {},
   "outputs": [],
   "source": []
  }
 ],
 "metadata": {
  "kernelspec": {
   "display_name": "Python 3 (ipykernel)",
   "language": "python",
   "name": "python3"
  },
  "language_info": {
   "codemirror_mode": {
    "name": "ipython",
    "version": 3
   },
   "file_extension": ".py",
   "mimetype": "text/x-python",
   "name": "python",
   "nbconvert_exporter": "python",
   "pygments_lexer": "ipython3",
   "version": "3.11.7"
  }
 },
 "nbformat": 4,
 "nbformat_minor": 5
}
