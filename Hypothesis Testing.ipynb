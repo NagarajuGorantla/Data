{
 "cells": [
  {
   "cell_type": "markdown",
   "id": "16f602ac-91c4-4106-bd62-2dd6473464f4",
   "metadata": {},
   "source": [
    "# Null Hypothesis (H0): The mean weekly operating cost is equal to the theoretical mean (H0: μ = 3050)."
   ]
  },
  {
   "cell_type": "markdown",
   "id": "a22617bc-5d57-4638-a55c-edc7d9097503",
   "metadata": {},
   "source": [
    "# Alternative Hypothesis (H1): The mean weekly operating cost is greater than the theoretical mean (H1: μ > 3050)."
   ]
  },
  {
   "cell_type": "code",
   "execution_count": 1,
   "id": "127ef908-93b8-4261-9765-a9dbc85f4d4b",
   "metadata": {},
   "outputs": [],
   "source": [
    "import numpy as np\n",
    "import pandas as pd\n",
    "from scipy import stats\n",
    "\n",
    "# Constants\n",
    "sample_mean = 3050  # Sample mean weekly cost\n",
    "X = 600             # Number of units produced\n",
    "fixed_cost = 1000   # Fixed cost in the cost model\n",
    "variable_cost_per_unit = 5  # Variable cost per unit\n",
    "n = 25              # Sample size\n"
   ]
  },
  {
   "cell_type": "code",
   "execution_count": 2,
   "id": "94d532d4-3387-4cd8-93bc-1acdef348698",
   "metadata": {},
   "outputs": [],
   "source": [
    "# Calculate the Theoretical Mean Weekly Cost\n",
    "theoretical_mean = fixed_cost + variable_cost_per_unit * X\n"
   ]
  },
  {
   "cell_type": "code",
   "execution_count": 3,
   "id": "eab940de-b8ca-4b06-9754-10a0667c737c",
   "metadata": {},
   "outputs": [],
   "source": [
    "# Calculate the Standard Deviation\n",
    "# Given that the standard deviation of X is 25, we calculate the standard deviation of W\n",
    "std_dev_X = 25\n",
    "std_dev_W = variable_cost_per_unit * std_dev_X\n"
   ]
  },
  {
   "cell_type": "code",
   "execution_count": 4,
   "id": "55908d74-7386-4f74-9384-c676ae304006",
   "metadata": {},
   "outputs": [
    {
     "name": "stdout",
     "output_type": "stream",
     "text": [
      "Theoretical Mean Weekly Cost: 4000\n",
      "Test Statistic (t): -38.0\n"
     ]
    }
   ],
   "source": [
    "# Calculate the Test Statistic (t)\n",
    "t_statistic = (sample_mean - theoretical_mean) / (std_dev_W / np.sqrt(n))\n",
    "\n",
    "print(f\"Theoretical Mean Weekly Cost: {theoretical_mean}\")\n",
    "print(f\"Test Statistic (t): {t_statistic}\")\n"
   ]
  },
  {
   "cell_type": "code",
   "execution_count": 5,
   "id": "92b3dc57-fdc4-46bb-9f0e-fa3b9e5012d7",
   "metadata": {},
   "outputs": [
    {
     "name": "stdout",
     "output_type": "stream",
     "text": [
      "Critical Value at alpha = 0.05: 1.7108820799094275\n"
     ]
    }
   ],
   "source": [
    "# Determine the Critical Value\n",
    "alpha = 0.05\n",
    "critical_value = stats.t.ppf(1 - alpha, df=n - 1)\n",
    "\n",
    "print(f\"Critical Value at alpha = {alpha}: {critical_value}\")\n"
   ]
  },
  {
   "cell_type": "code",
   "execution_count": 6,
   "id": "211b7fbb-c1c0-41d2-bbe5-6c6d62e47fdd",
   "metadata": {},
   "outputs": [
    {
     "name": "stdout",
     "output_type": "stream",
     "text": [
      "Decision: Fail to reject the null hypothesis.\n"
     ]
    }
   ],
   "source": [
    "# Make a Decision\n",
    "if t_statistic > critical_value:\n",
    "    decision = \"Reject the null hypothesis.\"\n",
    "else:\n",
    "    decision = \"Fail to reject the null hypothesis.\"\n",
    "\n",
    "print(f\"Decision: {decision}\")"
   ]
  },
  {
   "cell_type": "markdown",
   "id": "d1291b54-a118-4045-817a-add14330b7cf",
   "metadata": {},
   "source": [
    "# conclusion \n",
    "t_statistic is less than critical value we fail to reject Null Hypothesis.\n",
    "There is not enough evidence to support the restaurant owners claim that the weekly operating costs are higher than the model suggests."
   ]
  },
  {
   "cell_type": "code",
   "execution_count": null,
   "id": "0f9da287-c2c7-4271-a26f-54049cbd435d",
   "metadata": {},
   "outputs": [],
   "source": []
  }
 ],
 "metadata": {
  "kernelspec": {
   "display_name": "Python 3 (ipykernel)",
   "language": "python",
   "name": "python3"
  },
  "language_info": {
   "codemirror_mode": {
    "name": "ipython",
    "version": 3
   },
   "file_extension": ".py",
   "mimetype": "text/x-python",
   "name": "python",
   "nbconvert_exporter": "python",
   "pygments_lexer": "ipython3",
   "version": "3.11.7"
  }
 },
 "nbformat": 4,
 "nbformat_minor": 5
}
